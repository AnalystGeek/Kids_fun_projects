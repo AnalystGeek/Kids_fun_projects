{
 "cells": [
  {
   "cell_type": "markdown",
   "metadata": {
    "collapsed": false
   },
   "source": [
    "# Import any file from your local PC and create a pandas dataframe"
   ]
  },
  {
   "cell_type": "code",
   "execution_count": 3,
   "metadata": {
    "collapsed": false
   },
   "outputs": [
    {
     "name": "stdout",
     "output_type": "stream",
     "text": [
      "The question is:  \" What is the capital of canada? \"\n",
      "Options are:  ['A', 'B', 'C', 'D']\n",
      "Answer is: C\n"
     ]
    }
   ],
   "source": [
    "import pandas as pd\n",
    "\n",
    "header_cols = ['Questions', 'A', 'B', 'C','D', 'Correct_Answer']\n",
    "Q_A = pd.read_csv('C:/Q_file.csv',sep=',', names=header_cols, usecols=range(6), skiprows = [0])\n",
    "Q_A.head()\n",
    "\n",
    "#split into separate data frames\n",
    "df = pd.DataFrame (Q_A)\n",
    "df_q = df[['Questions']]\n",
    "df_op = df [['A', 'B', 'C', 'D']]\n",
    "df_a = df [['Correct_Answer']]\n",
    "\n",
    "#convert to dictionary\n",
    "q_key_tot =df_q.to_dict()\n",
    "Questions = df_op.to_dict('index')\n",
    "answers = df_a.to_dict()\n",
    "\n",
    "print('The question is: ','\"',q_key_tot['Questions'][0],'\"')\n",
    "print('Options are: ', sorted(Questions[0]))\n",
    "print('Answer is:', answers['Correct_Answer'][0])"
   ]
  },
  {
   "cell_type": "markdown",
   "metadata": {},
   "source": [
    "# Next, split into separate data frames for questions, options and correct answers"
   ]
  },
  {
   "cell_type": "code",
   "execution_count": 4,
   "metadata": {
    "collapsed": false
   },
   "outputs": [
    {
     "name": "stdout",
     "output_type": "stream",
     "text": [
      "The question is:  \" What is the capital of canada? \"\n",
      "('A', 'Canberra')\n",
      "('B', 'London')\n",
      "('C', 'Ottawa')\n",
      "('D', 'Hong Kong')\n",
      "Answer is: C\n"
     ]
    }
   ],
   "source": [
    "df = pd.DataFrame (Q_A)\n",
    "df_q = df[['Questions']]\n",
    "df_op = df [['A', 'B', 'C', 'D']]\n",
    "df_a = df [['Correct_Answer']]\n",
    "\n",
    "#convert to dictionary\n",
    "q_key_tot =df_q.to_dict()\n",
    "Questions = df_op.to_dict('index')\n",
    "answers = df_a.to_dict()\n",
    "\n",
    "print('The question is: ','\"',q_key_tot['Questions'][0],'\"')\n",
    "for key in sorted(Questions[0]):\n",
    "    print ((key, Questions[0][key]))\n",
    "    \n",
    "print('Answer is:', answers['Correct_Answer'][0])"
   ]
  },
  {
   "cell_type": "markdown",
   "metadata": {},
   "source": [
    "#Next, prepare some positive and negative expressions for correct or wrong answers\n",
    "#Need to do --pip install colored --library from python command prompt"
   ]
  },
  {
   "cell_type": "code",
   "execution_count": 7,
   "metadata": {
    "collapsed": false
   },
   "outputs": [
    {
     "name": "stdout",
     "output_type": "stream",
     "text": [
      "\u001b[38;5;77m\u001b[21m\u001b[48;5;0mAWESOME!!\u001b[0m\u001b[38;5;0m\n",
      "\u001b[38;5;200m\u001b[21m\u001b[48;5;0mI am sorry, it is not correct\u001b[0m\u001b[38;5;0m\n",
      "test reset\n"
     ]
    }
   ],
   "source": [
    "import random\n",
    "from colored import fg, bg, attr\n",
    "\n",
    "positive = ('Correct!!', 'YESS','AWESOME!!', 'Fantastic', 'bravo, corret', 'correcto','excellent!!', 'Yeh','You Rock!','You r a hacker!')\n",
    "negative =  ('Not Correct', 'Neh', 'Nah','Oh no, its not correct','Sorry, its not!', 'Sorry', 'I am sorry, it is not correct','Sorry, you lose!','Nuh uh' )\n",
    "\n",
    "attribute = attr(21)\n",
    "background = bg(0)\n",
    "default_fg=fg(0)\n",
    "reset = attr(0)\n",
    "color_p = fg(random.choice([116,86,77,105])) + attribute+background\n",
    "color_n = fg(random.choice([208,200, 201,196])) + attribute+background\n",
    "\n",
    "\n",
    "#test print\n",
    "print (color_p+random.choice(positive)+reset+fg(0))\n",
    "print (color_n+random.choice(negative)+reset+fg(0))\n",
    "print ('test reset')\n",
    "\n"
   ]
  },
  {
   "cell_type": "code",
   "execution_count": 6,
   "metadata": {
    "collapsed": false
   },
   "outputs": [
    {
     "name": "stdout",
     "output_type": "stream",
     "text": [
      "THIS JEOPARDY CAN BE PLAYED BY TWO(2) PERSONS*****\n",
      "Enter the 1st person name*****AwesomeA\n",
      "Enter the 2nd person name*****BestieB\n",
      "How many questions each person should be asked? 1- 5   3\n",
      "There will be total  6  questions\n",
      "Each will have  3 questions\n",
      "BestieB  will go first\n",
      "BestieB  has randomly selected questions  [0, 1, 7]\n",
      "AwesomeA  has randomly selected questions  [10, 4, 3]\n"
     ]
    }
   ],
   "source": [
    "import time\n",
    "import random\n",
    "import math\n",
    "\n",
    "\n",
    "#declare questions and score variables\n",
    "l1=0\n",
    "l2=0\n",
    "score1=0\n",
    "score2 =0\n",
    "\n",
    "#rule of game and player credentials\n",
    "print ('THIS JEOPARDY CAN BE PLAYED BY TWO(2) PERSONS*****')\n",
    "time.sleep(.300)\n",
    "player1= input ('Enter the 1st person name*****')\n",
    "player2= input ('Enter the 2nd person name*****')\n",
    "player_list =  [player1, player2]\n",
    "\n",
    "first = random.choice(player_list)\n",
    "second =''\n",
    "if (first ==player1):\n",
    "    second = player2\n",
    "else:\n",
    "    second = player1\n",
    "\n",
    "upper_q = math.floor(len(Questions)/2)\n",
    "text1='How many questions each person should be asked? 1- '+str(upper_q)+'   '\n",
    "n=int(input (text1))\n",
    "total_questions = 2*n # total questions for both players\n",
    "print ('There will be total ', total_questions, ' questions')\n",
    "print ('Each will have ', n, 'questions')\n",
    "print (first,' will go first')\n",
    "\n",
    "\n",
    "#generate library of questions for player 1 and 2\n",
    "total_list = list(range(0,len(Questions)))\n",
    "random.shuffle(total_list)\n",
    "list1 = total_list[0:n]\n",
    "list2 = total_list[n:total_questions]\n",
    "\n",
    "print (first,' has randomly selected questions ', list1)\n",
    "print (second,' has randomly selected questions ', list2)"
   ]
  },
  {
   "cell_type": "markdown",
   "metadata": {},
   "source": [
    "#This is the main code for asking the interactive Jeopardy questions, receiving answers and updating with the correct answers\n",
    "#At the end of this results are displayed in matplotlib graph"
   ]
  },
  {
   "cell_type": "code",
   "execution_count": 9,
   "metadata": {
    "collapsed": false
   },
   "outputs": [
    {
     "name": "stdout",
     "output_type": "stream",
     "text": [
      "****************************************\n",
      "Questions for  BestieB\n",
      "What is the capital of canada?\n",
      "('A', 'Canberra')\n",
      "('B', 'London')\n",
      "('C', 'Ottawa')\n",
      "('D', 'Hong Kong')\n",
      "Your Answer is _C\n",
      "\u001b[38;5;77m\u001b[21m\u001b[48;5;0mYou r a hacker!\u001b[0m\u001b[38;5;0m\n",
      "****************************************\n",
      "Questions for  AwesomeA\n",
      "What are three types of soil?\n",
      "('A', 'Dirt, Sand, Clay')\n",
      "('B', 'Silt, Dirt,  Muck')\n",
      "('C', 'Silt, Clay, Sand')\n",
      "('D', 'Doh, Clay, Mud')\n",
      "Your Answer is _a\n",
      "\u001b[38;5;200m\u001b[21m\u001b[48;5;0mNot Correct\u001b[0m\u001b[38;5;0m\n",
      "The Correct Answer is C\n",
      "****************************************\n",
      "Questions for  BestieB\n",
      "How many wards in Washington, DC?\n",
      "('A', '6')\n",
      "('B', '16')\n",
      "('C', '18')\n",
      "('D', '8')\n",
      "Your Answer is _d\n",
      "\u001b[38;5;77m\u001b[21m\u001b[48;5;0mAWESOME!!\u001b[0m\u001b[38;5;0m\n",
      "****************************************\n",
      "Questions for  AwesomeA\n",
      "How many counties in Texas?\n",
      "('A', '240')\n",
      "('B', '203')\n",
      "('C', '145')\n",
      "('D', '254')\n",
      "Your Answer is _d\n",
      "\u001b[38;5;77m\u001b[21m\u001b[48;5;0mAWESOME!!\u001b[0m\u001b[38;5;0m\n",
      "****************************************\n",
      "Questions for  BestieB\n",
      "What is the atomic number of silver?\n",
      "('A', '45')\n",
      "('B', '47')\n",
      "('C', '50')\n",
      "('D', '15')\n",
      "Your Answer is _b\n",
      "\u001b[38;5;77m\u001b[21m\u001b[48;5;0mbravo, corret\u001b[0m\u001b[38;5;0m\n",
      "****************************************\n",
      "Questions for  AwesomeA\n",
      "What continent is Ghana located?\n",
      "('A', 'Asia ')\n",
      "('B', 'South America')\n",
      "('C', 'Africa')\n",
      "('D', 'Europe')\n",
      "Your Answer is _f\n",
      "Answer must be one of these: a,b,c,d\n",
      "{'D': 'Europe', 'B': 'South America', 'A': 'Asia ', 'C': 'Africa'}c\n",
      "\u001b[38;5;77m\u001b[21m\u001b[48;5;0mbravo, corret\u001b[0m\u001b[38;5;0m\n",
      "****************************************\n",
      "TOTAL NUMBER FOR  BestieB is  30\n",
      "TOTAL NUMBER FOR  AwesomeA is  20\n",
      "****************************************\n",
      "BestieB  is the WINNER\n"
     ]
    },
    {
     "data": {
      "image/png": "[encoded data removed]",
      "text/plain": [
       "<matplotlib.figure.Figure at 0x154f1cf6160>"
      ]
     },
     "metadata": {},
     "output_type": "display_data"
    }
   ],
   "source": [
    "import matplotlib.pyplot as plt\n",
    "%matplotlib inline\n",
    "\n",
    "l1=0\n",
    "l2=0\n",
    "score1=0\n",
    "score2 =0\n",
    "\n",
    "def checkABCD(answer):\n",
    "    if (answer.upper() not in ['A','B','C','D']):\n",
    "        print ('Answer must be one of these: a,b,c,d')\n",
    "        return 0\n",
    "    else:\n",
    "        return 1\n",
    "\n",
    "for j in range (total_questions):\n",
    "        if (j%2==0):\n",
    "            print ('**'*20)\n",
    "            print ('Questions for ', first)\n",
    "            print(q_key_tot['Questions'][list1[l1]])\n",
    "            for key in sorted(Questions[list1[l1]]):\n",
    "                print ((key, Questions[list1[l1]][key]))\n",
    "            ans = input('Your Answer is _')\n",
    "            if (checkABCD(ans) ==0):\n",
    "                ans = input(Questions[list1[l1]])\n",
    "            if (ans.upper() ==answers['Correct_Answer'][list1[l1]]):\n",
    "                print (color_p+random.choice(positive)+reset+fg(0))\n",
    "                score1 = 10+score1\n",
    "            else:\n",
    "                print (color_n+random.choice(negative)+reset+fg(0))\n",
    "                print (\"The Correct Answer is\",answers['Correct_Answer'][list1[l1]])\n",
    "            l1=l1+1\n",
    "        else:\n",
    "            print ('**'*20)\n",
    "            print ('Questions for ', second)\n",
    "            print(q_key_tot['Questions'][list2[l2]])\n",
    "            for key in sorted(Questions[list2[l2]]):\n",
    "                print ((key, Questions[list2[l2]][key]))\n",
    "            ans = input('Your Answer is _')\n",
    "            if (checkABCD(ans) ==0):\n",
    "                ans = input(Questions[list2[l2]])\n",
    "            if (ans.upper() ==answers['Correct_Answer'][list2[l2]]):\n",
    "                print (color_p+random.choice(positive)+reset+fg(0))\n",
    "                score2 = 10+score2\n",
    "            else:\n",
    "                print (color_n+random.choice(negative)+reset+fg(0))\n",
    "                print (\"The Correct Answer is\",answers['Correct_Answer'][list2[l2]])\n",
    "            l2=l2+1\n",
    "print ('**'*20)\n",
    "print ('TOTAL NUMBER FOR ',first, 'is ',score1)\n",
    "print ('TOTAL NUMBER FOR ',second, 'is ',score2)\n",
    "print ('**'*20)\n",
    "if (score1>score2):\n",
    "    print (first,' is the WINNER')\n",
    "elif (score1<score2):\n",
    "    print (second,' is the WINNER')\n",
    "else:\n",
    "    print ('You both are WINNERS')\n",
    "\n",
    "y = [score1, score2]\n",
    "x =[1,2]\n",
    "colors = ['r', 'g']\n",
    "labels = [first, second]\n",
    "plt.bar(x, y)\n",
    "plt.xticks(x, (first, second))\n",
    "plt.title('Your score')\n",
    "plt.show()"
   ]
  }
 ],
 "metadata": {
  "anaconda-cloud": {},
  "kernelspec": {
   "display_name": "Python [conda root]",
   "language": "python",
   "name": "conda-root-py"
  },
  "language_info": {
   "codemirror_mode": {
    "name": "ipython",
    "version": 3
   },
   "file_extension": ".py",
   "mimetype": "text/x-python",
   "name": "python",
   "nbconvert_exporter": "python",
   "pygments_lexer": "ipython3",
   "version": "3.5.2"
  }
 },
 "nbformat": 4,
 "nbformat_minor": 1
}
